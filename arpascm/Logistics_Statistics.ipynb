{
 "cells": [
  {
   "cell_type": "code",
   "execution_count": 11,
   "metadata": {
    "collapsed": true,
    "ExecuteTime": {
     "end_time": "2023-12-09T20:23:10.019246800Z",
     "start_time": "2023-12-09T20:23:09.587112500Z"
    }
   },
   "outputs": [
    {
     "name": "stdout",
     "output_type": "stream",
     "text": [
      "\n",
      "MovingPandas 0.17.2\n",
      "\n",
      "SYSTEM INFO\n",
      "-----------\n",
      "python     : 3.11.6 | packaged by conda-forge | (main, Oct  3 2023, 10:40:35) [GCC 12.3.0]\n",
      "executable : /home/dmp/anaconda3/envs/arpa_venv/bin/python\n",
      "machine    : Linux-5.15.90.1-microsoft-standard-WSL2-x86_64-with-glibc2.31\n",
      "\n",
      "GEOS, GDAL, PROJ INFO\n",
      "---------------------\n",
      "GEOS       : None\n",
      "GEOS lib   : None\n",
      "GDAL       : 3.7.3\n",
      "GDAL data dir: /home/dmp/anaconda3/envs/arpa_venv/share/gdal\n",
      "PROJ       : 9.3.0\n",
      "PROJ data dir: /home/dmp/anaconda3/envs/arpa_venv/share/proj\n",
      "\n",
      "PYTHON DEPENDENCIES\n",
      "-------------------\n",
      "geopandas  : 0.14.0\n",
      "pandas     : 2.1.2\n",
      "fiona      : 1.9.5\n",
      "numpy      : 1.26.0\n",
      "shapely    : 2.0.2\n",
      "rtree      : 1.1.0\n",
      "pyproj     : 3.6.1\n",
      "matplotlib : 3.8.1\n",
      "mapclassify: None\n",
      "geopy      : 2.4.0\n",
      "holoviews  : 1.18.1\n",
      "hvplot     : 0.9.0\n",
      "geoviews   : 1.11.0\n",
      "stonesoup  : None\n"
     ]
    }
   ],
   "source": [
    "\"\"\"\n",
    "proprietà Istituto di Analisi dei Sistemi ed Informatica \"Antonio\n",
    "Ruberti\" del Consiglio Nazionale delle Ricerche\n",
    "\n",
    "10/12/2023   versione v. 1.0\n",
    "\n",
    "Autori:\n",
    "Diego Maria Pinto\n",
    "Marco Boresta\n",
    "Giuseppe Stecca\n",
    "Giovanni Felici\n",
    "\"\"\"\n",
    "import os\n",
    "import movingpandas as mpd\n",
    "mpd.show_versions()\n",
    "import warnings\n",
    "warnings.simplefilter(\"ignore\")\n",
    "import pandas as pd\n",
    "from holoviews import opts\n",
    "import numpy as np\n",
    "\n",
    "plot_defaults = {'linewidth':5, 'capstyle':'round', 'figsize':(9,3), 'legend':True}\n",
    "opts.defaults(opts.Overlay(active_tools=['wheel_zoom'], frame_width=500, frame_height=400))"
   ]
  },
  {
   "cell_type": "code",
   "execution_count": 12,
   "outputs": [],
   "source": [
    "def load_data(filepath, filename):\n",
    "    file = filepath + filename\n",
    "    data = pd.read_excel(file)\n",
    "    return data\n",
    "\n",
    "cwd = os.getcwd()\n",
    "data_path = cwd\n",
    "file_name = 'ARPA_explained_trajectories_v2.0.xlsx'\n",
    "\n",
    "df = pd.read_excel(data_path + '/' + file_name, index_col=0)"
   ],
   "metadata": {
    "collapsed": false,
    "ExecuteTime": {
     "end_time": "2023-12-09T20:23:12.394448800Z",
     "start_time": "2023-12-09T20:23:12.230339900Z"
    }
   }
  },
  {
   "cell_type": "code",
   "execution_count": 13,
   "outputs": [
    {
     "data": {
      "text/plain": "Index(['truck_id', 'path_serial', 'from', 'to', 'start_daytime', 'end_daytime',\n       '# stops', 'overall stops duration [hours]', 'stop_1_time',\n       'stop_2_time', 'stop_3_time', 'stop_4_time', 'total_length [km]',\n       'total_duration [hours]', 'total_driving [hours]',\n       'total_duration [days]', 't_CW', 't_CW_hours', 't_CW_hours_net_stops',\n       't_CA', 't_CA_hours', 't_CA_hours_net_stops'],\n      dtype='object')"
     },
     "execution_count": 13,
     "metadata": {},
     "output_type": "execute_result"
    }
   ],
   "source": [
    "df.columns"
   ],
   "metadata": {
    "collapsed": false,
    "ExecuteTime": {
     "end_time": "2023-12-09T20:23:13.221516200Z",
     "start_time": "2023-12-09T20:23:13.164702Z"
    }
   }
  },
  {
   "cell_type": "code",
   "execution_count": 14,
   "outputs": [
    {
     "data": {
      "text/plain": "             truck_id  path_serial       from         to       start_daytime  \\\nfile_source                                                                    \nold_2022            3            0    Samsung    Gerbole 2022-04-05 23:33:49   \nold_2022            3            1    Samsung    Gerbole 2022-04-30 07:23:36   \nold_2022            6            0    Samsung    Gerbole 2022-04-10 00:10:23   \nold_2022           12            0    Samsung    Gerbole 2022-05-19 17:53:31   \nold_2022           12            1    Samsung    Gerbole 2022-06-11 08:10:12   \nold_2022           14            0    Samsung    Gerbole 2022-05-19 03:30:44   \nold_2022           16            0    Samsung    Gerbole 2022-05-20 23:09:34   \nold_2022           18            0    Samsung    Gerbole 2022-06-12 01:13:20   \nold_2022           19            0    Samsung    Gerbole 2022-05-23 05:13:17   \nold_2022           20            0    Samsung    Gerbole 2022-05-28 01:55:13   \nold_2022           26            0    Samsung    Gerbole 2023-04-08 16:59:50   \nold_2022           27            0    Samsung  Mirafiori 2023-04-29 10:45:16   \nold_2022            2            0  Mirafiori    Samsung 2022-04-01 06:23:40   \nold_2022            3            0  Mirafiori    Samsung 2022-04-01 06:26:08   \nold_2022            3            1  Mirafiori    Samsung 2022-04-27 07:12:08   \nold_2022            4            0  Mirafiori    Samsung 2022-04-01 00:43:12   \nold_2022            5            0  Mirafiori    Samsung 2022-04-01 07:01:28   \nold_2022            6            0  Mirafiori    Samsung 2022-04-01 15:19:42   \nold_2022            8            0  Mirafiori    Samsung 2022-04-01 15:58:44   \nold_2022           10            0  Mirafiori    Samsung 2022-04-01 05:11:48   \nold_2022           12            0  Mirafiori    Samsung 2022-05-17 00:39:43   \nold_2022           12            1  Mirafiori    Samsung 2022-06-09 04:00:21   \nold_2022           14            0  Mirafiori    Samsung 2022-05-16 17:31:10   \nold_2022           16            0  Mirafiori    Samsung 2022-05-16 17:10:47   \nold_2022           17            0  Mirafiori    Samsung 2022-05-16 17:10:50   \nold_2022           18            0  Mirafiori    Samsung 2022-06-09 05:20:05   \nold_2022           19            0  Mirafiori    Samsung 2022-05-16 17:33:21   \nold_2022           19            1  Mirafiori    Samsung 2022-06-17 07:31:03   \nold_2022           20            0  Mirafiori    Samsung 2022-05-20 09:10:18   \nold_2022           24            0  Mirafiori    Samsung 2023-04-01 04:40:41   \n\n                    end_daytime  # stops  overall stops duration [hours]  \\\nfile_source                                                                \nold_2022    2022-04-08 07:44:36        2                           14.06   \nold_2022    2022-05-02 21:31:36        3                           44.10   \nold_2022    2022-04-14 07:44:38        1                            9.02   \nold_2022    2022-05-21 15:52:32        2                           24.07   \nold_2022    2022-06-14 08:03:04        2                           48.92   \nold_2022    2022-05-21 16:23:43        3                           37.94   \nold_2022    2022-05-24 08:08:35        2                           60.95   \nold_2022    2022-06-14 04:53:32        2                           31.75   \nold_2022    2022-05-24 07:11:39        1                            7.97   \nold_2022    2022-05-31 09:02:24        4                           59.08   \nold_2022    2023-04-12 11:32:56        2                           71.03   \nold_2022    2023-05-02 05:33:42        2                           49.06   \nold_2022    2022-04-04 21:33:37        1                           67.00   \nold_2022    2022-04-04 21:18:34        1                           67.75   \nold_2022    2022-04-29 10:24:08        2                           30.10   \nold_2022    2022-04-04 21:20:32        2                           73.34   \nold_2022    2022-04-04 21:29:58        1                           67.28   \nold_2022    2022-04-09 16:08:07        3                           43.73   \nold_2022    2022-04-04 07:26:37        2                           45.29   \nold_2022    2022-04-04 07:07:25        2                           43.62   \nold_2022    2022-05-18 05:42:47        1                            7.00   \nold_2022    2022-06-10 13:09:17        2                           11.06   \nold_2022    2022-05-18 18:27:42        3                           23.01   \nold_2022    2022-05-18 18:08:07        3                           23.08   \nold_2022    2022-05-18 18:06:25        4                           24.04   \nold_2022    2022-06-11 07:15:16        1                            8.00   \nold_2022    2022-05-18 18:29:06        2                           21.05   \nold_2022    2022-06-18 16:22:23        1                           11.97   \nold_2022    2022-05-27 01:56:12        2                          141.85   \nold_2022    2023-04-03 15:16:03        1                           42.14   \n\n             stop_1_time  stop_2_time  ...  total_length [km]  \\\nfile_source                            ...                      \nold_2022            9.05         5.02  ...        1021.389308   \nold_2022            1.02        35.07  ...        1048.666726   \nold_2022            9.02         0.00  ...        1047.494288   \nold_2022           11.06        13.01  ...        1014.621260   \nold_2022           37.94        10.97  ...         980.787880   \nold_2022           14.93        11.02  ...        1044.318455   \nold_2022           51.99         8.96  ...        1024.376131   \nold_2022           22.85         8.90  ...         987.422593   \nold_2022            7.97         0.00  ...         986.404462   \nold_2022            5.94        38.12  ...        1038.009468   \nold_2022           60.57        10.46  ...        1073.538003   \nold_2022           29.76        19.30  ...        1075.240110   \nold_2022           67.00         0.00  ...        1000.351823   \nold_2022           67.75         0.00  ...        1006.029215   \nold_2022           12.04        18.06  ...         980.828779   \nold_2022            7.02        66.31  ...        1007.606699   \nold_2022           67.28         0.00  ...        1038.179648   \nold_2022            1.01         9.13  ...         978.325582   \nold_2022           10.03        35.26  ...         962.976425   \nold_2022            8.10        35.52  ...         965.467059   \nold_2022            7.00         0.00  ...        1012.315143   \nold_2022            7.03         4.03  ...         983.936267   \nold_2022           10.00        11.02  ...        1003.037086   \nold_2022           11.04        10.05  ...        1020.747923   \nold_2022            9.00        11.02  ...        1025.912096   \nold_2022            8.00         0.00  ...         995.244525   \nold_2022           10.01        11.03  ...        1016.741702   \nold_2022           11.97         0.00  ...         999.595988   \nold_2022           58.94        82.91  ...         992.278648   \nold_2022           42.14         0.00  ...         994.944322   \n\n             total_duration [hours]  total_driving [hours]  \\\nfile_source                                                  \nold_2022                      56.18                  42.12   \nold_2022                      62.13                  18.03   \nold_2022                     103.57                  94.55   \nold_2022                      45.98                  21.91   \nold_2022                      71.88                  22.96   \nold_2022                      60.88                  22.94   \nold_2022                      80.98                  20.03   \nold_2022                      51.67                  19.92   \nold_2022                      25.97                  18.00   \nold_2022                      79.12                  20.04   \nold_2022                      90.55                  19.52   \nold_2022                      66.81                  17.76   \nold_2022                      87.17                  20.17   \nold_2022                      86.87                  19.12   \nold_2022                      51.20                  21.10   \nold_2022                      92.62                  19.28   \nold_2022                      86.47                  19.19   \nold_2022                     192.81                 149.08   \nold_2022                      63.46                  18.17   \nold_2022                      73.93                  30.31   \nold_2022                      29.05                  22.05   \nold_2022                      33.15                  22.09   \nold_2022                      48.94                  25.93   \nold_2022                      48.96                  25.88   \nold_2022                      48.93                  24.89   \nold_2022                      49.92                  41.92   \nold_2022                      48.93                  27.88   \nold_2022                      32.86                  20.89   \nold_2022                     160.76                  18.91   \nold_2022                      58.59                  16.45   \n\n             total_duration [days]             t_CW t_CW_hours  \\\nfile_source                                                      \nold_2022           2 days 08:10:47  1 days 11:07:37      35.13   \nold_2022           2 days 14:08:00  1 days 22:06:33      46.11   \nold_2022           4 days 07:34:15  3 days 23:28:29      95.47   \nold_2022           1 days 21:59:01  0 days 23:59:11      23.99   \nold_2022           2 days 23:52:52  2 days 03:54:55      51.92   \nold_2022           2 days 12:52:59  1 days 15:54:54      39.91   \nold_2022           3 days 08:59:01  2 days 17:00:14      65.00   \nold_2022           2 days 03:40:12  1 days 07:50:23      31.84   \nold_2022           1 days 01:58:22  0 days 10:01:12      10.02   \nold_2022           3 days 07:07:11  2 days 06:06:00      54.10   \nold_2022           3 days 18:33:06  2 days 22:13:19      70.22   \nold_2022           2 days 18:48:26  1 days 15:59:47      40.00   \nold_2022           3 days 15:09:57  0 days 11:04:04      11.07   \nold_2022           3 days 14:52:26  0 days 12:03:51      12.06   \nold_2022           2 days 03:12:00  0 days 08:00:39       8.01   \nold_2022           3 days 20:37:20  0 days 16:07:22      16.12   \nold_2022           3 days 14:28:30  0 days 09:05:20       9.09   \nold_2022           8 days 00:48:25  0 days 20:16:19      20.27   \nold_2022           2 days 15:27:53  0 days 22:07:54      22.13   \nold_2022           3 days 01:55:37  1 days 09:20:48      33.35   \nold_2022           1 days 05:03:04  0 days 11:02:05      11.03   \nold_2022           1 days 09:08:56  0 days 11:02:23      11.04   \nold_2022           2 days 00:56:32  0 days 21:58:16      21.97   \nold_2022           2 days 00:57:20  0 days 22:58:18      22.97   \nold_2022           2 days 00:55:35  0 days 22:57:17      22.95   \nold_2022           2 days 01:55:11  0 days 09:01:16       9.02   \nold_2022           2 days 00:55:45  0 days 21:57:29      21.96   \nold_2022           1 days 08:51:20  0 days 23:53:48      23.90   \nold_2022           6 days 16:45:54  0 days 09:56:14       9.94   \nold_2022           2 days 10:35:22  2 days 02:28:51      50.48   \n\n            t_CW_hours_net_stops             t_CA  t_CA_hours  \\\nfile_source                                                     \nold_2022                   26.08  1 days 18:06:24       42.11   \nold_2022                   10.02  2 days 13:08:30       61.14   \nold_2022                   86.45  4 days 05:32:35      101.54   \nold_2022                   12.93  1 days 20:00:14       44.00   \nold_2022                   13.98  2 days 20:52:25       68.87   \nold_2022                   13.96  2 days 09:54:00       57.90   \nold_2022                   13.01  3 days 06:58:39       78.98   \nold_2022                    8.99  2 days 00:41:16       48.69   \nold_2022                   10.02  0 days 22:58:26       22.97   \nold_2022                   10.04  2 days 15:05:51       63.10   \nold_2022                    9.65  3 days 15:36:09       87.60   \nold_2022                   10.24  2 days 17:11:00       65.18   \nold_2022                     NaN  0 days 04:01:13        4.02   \nold_2022                     NaN  0 days 04:00:55        4.02   \nold_2022                     NaN  0 days 04:00:56        4.02   \nold_2022                     NaN  0 days 11:04:34       11.08   \nold_2022                     NaN  0 days 03:02:19        3.04   \nold_2022                     NaN  0 days 05:03:27        5.06   \nold_2022                     NaN  0 days 04:02:11        4.04   \nold_2022                     NaN  0 days 14:04:28       14.07   \nold_2022                     NaN  0 days 03:00:32        3.01   \nold_2022                     NaN  0 days 05:01:35        5.03   \nold_2022                     NaN  0 days 15:59:54       16.00   \nold_2022                     NaN  0 days 16:00:47       16.01   \nold_2022                     NaN  0 days 15:59:32       15.99   \nold_2022                     NaN  0 days 03:00:39        3.01   \nold_2022                     NaN  0 days 16:00:33       16.01   \nold_2022                     NaN  0 days 04:58:09        4.97   \nold_2022                     NaN  0 days 04:58:37        4.98   \nold_2022                     NaN  0 days 02:41:18        2.69   \n\n            t_CA_hours_net_stops  \nfile_source                       \nold_2022                   33.06  \nold_2022                   17.04  \nold_2022                   92.52  \nold_2022                   19.93  \nold_2022                   19.95  \nold_2022                   19.96  \nold_2022                   18.03  \nold_2022                   16.94  \nold_2022                   15.00  \nold_2022                   19.04  \nold_2022                   16.57  \nold_2022                   16.13  \nold_2022                     NaN  \nold_2022                     NaN  \nold_2022                     NaN  \nold_2022                     NaN  \nold_2022                     NaN  \nold_2022                     NaN  \nold_2022                     NaN  \nold_2022                     NaN  \nold_2022                     NaN  \nold_2022                     NaN  \nold_2022                     NaN  \nold_2022                     NaN  \nold_2022                     NaN  \nold_2022                     NaN  \nold_2022                     NaN  \nold_2022                     NaN  \nold_2022                     NaN  \nold_2022                     NaN  \n\n[30 rows x 22 columns]",
      "text/html": "<div>\n<style scoped>\n    .dataframe tbody tr th:only-of-type {\n        vertical-align: middle;\n    }\n\n    .dataframe tbody tr th {\n        vertical-align: top;\n    }\n\n    .dataframe thead th {\n        text-align: right;\n    }\n</style>\n<table border=\"1\" class=\"dataframe\">\n  <thead>\n    <tr style=\"text-align: right;\">\n      <th></th>\n      <th>truck_id</th>\n      <th>path_serial</th>\n      <th>from</th>\n      <th>to</th>\n      <th>start_daytime</th>\n      <th>end_daytime</th>\n      <th># stops</th>\n      <th>overall stops duration [hours]</th>\n      <th>stop_1_time</th>\n      <th>stop_2_time</th>\n      <th>...</th>\n      <th>total_length [km]</th>\n      <th>total_duration [hours]</th>\n      <th>total_driving [hours]</th>\n      <th>total_duration [days]</th>\n      <th>t_CW</th>\n      <th>t_CW_hours</th>\n      <th>t_CW_hours_net_stops</th>\n      <th>t_CA</th>\n      <th>t_CA_hours</th>\n      <th>t_CA_hours_net_stops</th>\n    </tr>\n    <tr>\n      <th>file_source</th>\n      <th></th>\n      <th></th>\n      <th></th>\n      <th></th>\n      <th></th>\n      <th></th>\n      <th></th>\n      <th></th>\n      <th></th>\n      <th></th>\n      <th></th>\n      <th></th>\n      <th></th>\n      <th></th>\n      <th></th>\n      <th></th>\n      <th></th>\n      <th></th>\n      <th></th>\n      <th></th>\n      <th></th>\n    </tr>\n  </thead>\n  <tbody>\n    <tr>\n      <th>old_2022</th>\n      <td>3</td>\n      <td>0</td>\n      <td>Samsung</td>\n      <td>Gerbole</td>\n      <td>2022-04-05 23:33:49</td>\n      <td>2022-04-08 07:44:36</td>\n      <td>2</td>\n      <td>14.06</td>\n      <td>9.05</td>\n      <td>5.02</td>\n      <td>...</td>\n      <td>1021.389308</td>\n      <td>56.18</td>\n      <td>42.12</td>\n      <td>2 days 08:10:47</td>\n      <td>1 days 11:07:37</td>\n      <td>35.13</td>\n      <td>26.08</td>\n      <td>1 days 18:06:24</td>\n      <td>42.11</td>\n      <td>33.06</td>\n    </tr>\n    <tr>\n      <th>old_2022</th>\n      <td>3</td>\n      <td>1</td>\n      <td>Samsung</td>\n      <td>Gerbole</td>\n      <td>2022-04-30 07:23:36</td>\n      <td>2022-05-02 21:31:36</td>\n      <td>3</td>\n      <td>44.10</td>\n      <td>1.02</td>\n      <td>35.07</td>\n      <td>...</td>\n      <td>1048.666726</td>\n      <td>62.13</td>\n      <td>18.03</td>\n      <td>2 days 14:08:00</td>\n      <td>1 days 22:06:33</td>\n      <td>46.11</td>\n      <td>10.02</td>\n      <td>2 days 13:08:30</td>\n      <td>61.14</td>\n      <td>17.04</td>\n    </tr>\n    <tr>\n      <th>old_2022</th>\n      <td>6</td>\n      <td>0</td>\n      <td>Samsung</td>\n      <td>Gerbole</td>\n      <td>2022-04-10 00:10:23</td>\n      <td>2022-04-14 07:44:38</td>\n      <td>1</td>\n      <td>9.02</td>\n      <td>9.02</td>\n      <td>0.00</td>\n      <td>...</td>\n      <td>1047.494288</td>\n      <td>103.57</td>\n      <td>94.55</td>\n      <td>4 days 07:34:15</td>\n      <td>3 days 23:28:29</td>\n      <td>95.47</td>\n      <td>86.45</td>\n      <td>4 days 05:32:35</td>\n      <td>101.54</td>\n      <td>92.52</td>\n    </tr>\n    <tr>\n      <th>old_2022</th>\n      <td>12</td>\n      <td>0</td>\n      <td>Samsung</td>\n      <td>Gerbole</td>\n      <td>2022-05-19 17:53:31</td>\n      <td>2022-05-21 15:52:32</td>\n      <td>2</td>\n      <td>24.07</td>\n      <td>11.06</td>\n      <td>13.01</td>\n      <td>...</td>\n      <td>1014.621260</td>\n      <td>45.98</td>\n      <td>21.91</td>\n      <td>1 days 21:59:01</td>\n      <td>0 days 23:59:11</td>\n      <td>23.99</td>\n      <td>12.93</td>\n      <td>1 days 20:00:14</td>\n      <td>44.00</td>\n      <td>19.93</td>\n    </tr>\n    <tr>\n      <th>old_2022</th>\n      <td>12</td>\n      <td>1</td>\n      <td>Samsung</td>\n      <td>Gerbole</td>\n      <td>2022-06-11 08:10:12</td>\n      <td>2022-06-14 08:03:04</td>\n      <td>2</td>\n      <td>48.92</td>\n      <td>37.94</td>\n      <td>10.97</td>\n      <td>...</td>\n      <td>980.787880</td>\n      <td>71.88</td>\n      <td>22.96</td>\n      <td>2 days 23:52:52</td>\n      <td>2 days 03:54:55</td>\n      <td>51.92</td>\n      <td>13.98</td>\n      <td>2 days 20:52:25</td>\n      <td>68.87</td>\n      <td>19.95</td>\n    </tr>\n    <tr>\n      <th>old_2022</th>\n      <td>14</td>\n      <td>0</td>\n      <td>Samsung</td>\n      <td>Gerbole</td>\n      <td>2022-05-19 03:30:44</td>\n      <td>2022-05-21 16:23:43</td>\n      <td>3</td>\n      <td>37.94</td>\n      <td>14.93</td>\n      <td>11.02</td>\n      <td>...</td>\n      <td>1044.318455</td>\n      <td>60.88</td>\n      <td>22.94</td>\n      <td>2 days 12:52:59</td>\n      <td>1 days 15:54:54</td>\n      <td>39.91</td>\n      <td>13.96</td>\n      <td>2 days 09:54:00</td>\n      <td>57.90</td>\n      <td>19.96</td>\n    </tr>\n    <tr>\n      <th>old_2022</th>\n      <td>16</td>\n      <td>0</td>\n      <td>Samsung</td>\n      <td>Gerbole</td>\n      <td>2022-05-20 23:09:34</td>\n      <td>2022-05-24 08:08:35</td>\n      <td>2</td>\n      <td>60.95</td>\n      <td>51.99</td>\n      <td>8.96</td>\n      <td>...</td>\n      <td>1024.376131</td>\n      <td>80.98</td>\n      <td>20.03</td>\n      <td>3 days 08:59:01</td>\n      <td>2 days 17:00:14</td>\n      <td>65.00</td>\n      <td>13.01</td>\n      <td>3 days 06:58:39</td>\n      <td>78.98</td>\n      <td>18.03</td>\n    </tr>\n    <tr>\n      <th>old_2022</th>\n      <td>18</td>\n      <td>0</td>\n      <td>Samsung</td>\n      <td>Gerbole</td>\n      <td>2022-06-12 01:13:20</td>\n      <td>2022-06-14 04:53:32</td>\n      <td>2</td>\n      <td>31.75</td>\n      <td>22.85</td>\n      <td>8.90</td>\n      <td>...</td>\n      <td>987.422593</td>\n      <td>51.67</td>\n      <td>19.92</td>\n      <td>2 days 03:40:12</td>\n      <td>1 days 07:50:23</td>\n      <td>31.84</td>\n      <td>8.99</td>\n      <td>2 days 00:41:16</td>\n      <td>48.69</td>\n      <td>16.94</td>\n    </tr>\n    <tr>\n      <th>old_2022</th>\n      <td>19</td>\n      <td>0</td>\n      <td>Samsung</td>\n      <td>Gerbole</td>\n      <td>2022-05-23 05:13:17</td>\n      <td>2022-05-24 07:11:39</td>\n      <td>1</td>\n      <td>7.97</td>\n      <td>7.97</td>\n      <td>0.00</td>\n      <td>...</td>\n      <td>986.404462</td>\n      <td>25.97</td>\n      <td>18.00</td>\n      <td>1 days 01:58:22</td>\n      <td>0 days 10:01:12</td>\n      <td>10.02</td>\n      <td>10.02</td>\n      <td>0 days 22:58:26</td>\n      <td>22.97</td>\n      <td>15.00</td>\n    </tr>\n    <tr>\n      <th>old_2022</th>\n      <td>20</td>\n      <td>0</td>\n      <td>Samsung</td>\n      <td>Gerbole</td>\n      <td>2022-05-28 01:55:13</td>\n      <td>2022-05-31 09:02:24</td>\n      <td>4</td>\n      <td>59.08</td>\n      <td>5.94</td>\n      <td>38.12</td>\n      <td>...</td>\n      <td>1038.009468</td>\n      <td>79.12</td>\n      <td>20.04</td>\n      <td>3 days 07:07:11</td>\n      <td>2 days 06:06:00</td>\n      <td>54.10</td>\n      <td>10.04</td>\n      <td>2 days 15:05:51</td>\n      <td>63.10</td>\n      <td>19.04</td>\n    </tr>\n    <tr>\n      <th>old_2022</th>\n      <td>26</td>\n      <td>0</td>\n      <td>Samsung</td>\n      <td>Gerbole</td>\n      <td>2023-04-08 16:59:50</td>\n      <td>2023-04-12 11:32:56</td>\n      <td>2</td>\n      <td>71.03</td>\n      <td>60.57</td>\n      <td>10.46</td>\n      <td>...</td>\n      <td>1073.538003</td>\n      <td>90.55</td>\n      <td>19.52</td>\n      <td>3 days 18:33:06</td>\n      <td>2 days 22:13:19</td>\n      <td>70.22</td>\n      <td>9.65</td>\n      <td>3 days 15:36:09</td>\n      <td>87.60</td>\n      <td>16.57</td>\n    </tr>\n    <tr>\n      <th>old_2022</th>\n      <td>27</td>\n      <td>0</td>\n      <td>Samsung</td>\n      <td>Mirafiori</td>\n      <td>2023-04-29 10:45:16</td>\n      <td>2023-05-02 05:33:42</td>\n      <td>2</td>\n      <td>49.06</td>\n      <td>29.76</td>\n      <td>19.30</td>\n      <td>...</td>\n      <td>1075.240110</td>\n      <td>66.81</td>\n      <td>17.76</td>\n      <td>2 days 18:48:26</td>\n      <td>1 days 15:59:47</td>\n      <td>40.00</td>\n      <td>10.24</td>\n      <td>2 days 17:11:00</td>\n      <td>65.18</td>\n      <td>16.13</td>\n    </tr>\n    <tr>\n      <th>old_2022</th>\n      <td>2</td>\n      <td>0</td>\n      <td>Mirafiori</td>\n      <td>Samsung</td>\n      <td>2022-04-01 06:23:40</td>\n      <td>2022-04-04 21:33:37</td>\n      <td>1</td>\n      <td>67.00</td>\n      <td>67.00</td>\n      <td>0.00</td>\n      <td>...</td>\n      <td>1000.351823</td>\n      <td>87.17</td>\n      <td>20.17</td>\n      <td>3 days 15:09:57</td>\n      <td>0 days 11:04:04</td>\n      <td>11.07</td>\n      <td>NaN</td>\n      <td>0 days 04:01:13</td>\n      <td>4.02</td>\n      <td>NaN</td>\n    </tr>\n    <tr>\n      <th>old_2022</th>\n      <td>3</td>\n      <td>0</td>\n      <td>Mirafiori</td>\n      <td>Samsung</td>\n      <td>2022-04-01 06:26:08</td>\n      <td>2022-04-04 21:18:34</td>\n      <td>1</td>\n      <td>67.75</td>\n      <td>67.75</td>\n      <td>0.00</td>\n      <td>...</td>\n      <td>1006.029215</td>\n      <td>86.87</td>\n      <td>19.12</td>\n      <td>3 days 14:52:26</td>\n      <td>0 days 12:03:51</td>\n      <td>12.06</td>\n      <td>NaN</td>\n      <td>0 days 04:00:55</td>\n      <td>4.02</td>\n      <td>NaN</td>\n    </tr>\n    <tr>\n      <th>old_2022</th>\n      <td>3</td>\n      <td>1</td>\n      <td>Mirafiori</td>\n      <td>Samsung</td>\n      <td>2022-04-27 07:12:08</td>\n      <td>2022-04-29 10:24:08</td>\n      <td>2</td>\n      <td>30.10</td>\n      <td>12.04</td>\n      <td>18.06</td>\n      <td>...</td>\n      <td>980.828779</td>\n      <td>51.20</td>\n      <td>21.10</td>\n      <td>2 days 03:12:00</td>\n      <td>0 days 08:00:39</td>\n      <td>8.01</td>\n      <td>NaN</td>\n      <td>0 days 04:00:56</td>\n      <td>4.02</td>\n      <td>NaN</td>\n    </tr>\n    <tr>\n      <th>old_2022</th>\n      <td>4</td>\n      <td>0</td>\n      <td>Mirafiori</td>\n      <td>Samsung</td>\n      <td>2022-04-01 00:43:12</td>\n      <td>2022-04-04 21:20:32</td>\n      <td>2</td>\n      <td>73.34</td>\n      <td>7.02</td>\n      <td>66.31</td>\n      <td>...</td>\n      <td>1007.606699</td>\n      <td>92.62</td>\n      <td>19.28</td>\n      <td>3 days 20:37:20</td>\n      <td>0 days 16:07:22</td>\n      <td>16.12</td>\n      <td>NaN</td>\n      <td>0 days 11:04:34</td>\n      <td>11.08</td>\n      <td>NaN</td>\n    </tr>\n    <tr>\n      <th>old_2022</th>\n      <td>5</td>\n      <td>0</td>\n      <td>Mirafiori</td>\n      <td>Samsung</td>\n      <td>2022-04-01 07:01:28</td>\n      <td>2022-04-04 21:29:58</td>\n      <td>1</td>\n      <td>67.28</td>\n      <td>67.28</td>\n      <td>0.00</td>\n      <td>...</td>\n      <td>1038.179648</td>\n      <td>86.47</td>\n      <td>19.19</td>\n      <td>3 days 14:28:30</td>\n      <td>0 days 09:05:20</td>\n      <td>9.09</td>\n      <td>NaN</td>\n      <td>0 days 03:02:19</td>\n      <td>3.04</td>\n      <td>NaN</td>\n    </tr>\n    <tr>\n      <th>old_2022</th>\n      <td>6</td>\n      <td>0</td>\n      <td>Mirafiori</td>\n      <td>Samsung</td>\n      <td>2022-04-01 15:19:42</td>\n      <td>2022-04-09 16:08:07</td>\n      <td>3</td>\n      <td>43.73</td>\n      <td>1.01</td>\n      <td>9.13</td>\n      <td>...</td>\n      <td>978.325582</td>\n      <td>192.81</td>\n      <td>149.08</td>\n      <td>8 days 00:48:25</td>\n      <td>0 days 20:16:19</td>\n      <td>20.27</td>\n      <td>NaN</td>\n      <td>0 days 05:03:27</td>\n      <td>5.06</td>\n      <td>NaN</td>\n    </tr>\n    <tr>\n      <th>old_2022</th>\n      <td>8</td>\n      <td>0</td>\n      <td>Mirafiori</td>\n      <td>Samsung</td>\n      <td>2022-04-01 15:58:44</td>\n      <td>2022-04-04 07:26:37</td>\n      <td>2</td>\n      <td>45.29</td>\n      <td>10.03</td>\n      <td>35.26</td>\n      <td>...</td>\n      <td>962.976425</td>\n      <td>63.46</td>\n      <td>18.17</td>\n      <td>2 days 15:27:53</td>\n      <td>0 days 22:07:54</td>\n      <td>22.13</td>\n      <td>NaN</td>\n      <td>0 days 04:02:11</td>\n      <td>4.04</td>\n      <td>NaN</td>\n    </tr>\n    <tr>\n      <th>old_2022</th>\n      <td>10</td>\n      <td>0</td>\n      <td>Mirafiori</td>\n      <td>Samsung</td>\n      <td>2022-04-01 05:11:48</td>\n      <td>2022-04-04 07:07:25</td>\n      <td>2</td>\n      <td>43.62</td>\n      <td>8.10</td>\n      <td>35.52</td>\n      <td>...</td>\n      <td>965.467059</td>\n      <td>73.93</td>\n      <td>30.31</td>\n      <td>3 days 01:55:37</td>\n      <td>1 days 09:20:48</td>\n      <td>33.35</td>\n      <td>NaN</td>\n      <td>0 days 14:04:28</td>\n      <td>14.07</td>\n      <td>NaN</td>\n    </tr>\n    <tr>\n      <th>old_2022</th>\n      <td>12</td>\n      <td>0</td>\n      <td>Mirafiori</td>\n      <td>Samsung</td>\n      <td>2022-05-17 00:39:43</td>\n      <td>2022-05-18 05:42:47</td>\n      <td>1</td>\n      <td>7.00</td>\n      <td>7.00</td>\n      <td>0.00</td>\n      <td>...</td>\n      <td>1012.315143</td>\n      <td>29.05</td>\n      <td>22.05</td>\n      <td>1 days 05:03:04</td>\n      <td>0 days 11:02:05</td>\n      <td>11.03</td>\n      <td>NaN</td>\n      <td>0 days 03:00:32</td>\n      <td>3.01</td>\n      <td>NaN</td>\n    </tr>\n    <tr>\n      <th>old_2022</th>\n      <td>12</td>\n      <td>1</td>\n      <td>Mirafiori</td>\n      <td>Samsung</td>\n      <td>2022-06-09 04:00:21</td>\n      <td>2022-06-10 13:09:17</td>\n      <td>2</td>\n      <td>11.06</td>\n      <td>7.03</td>\n      <td>4.03</td>\n      <td>...</td>\n      <td>983.936267</td>\n      <td>33.15</td>\n      <td>22.09</td>\n      <td>1 days 09:08:56</td>\n      <td>0 days 11:02:23</td>\n      <td>11.04</td>\n      <td>NaN</td>\n      <td>0 days 05:01:35</td>\n      <td>5.03</td>\n      <td>NaN</td>\n    </tr>\n    <tr>\n      <th>old_2022</th>\n      <td>14</td>\n      <td>0</td>\n      <td>Mirafiori</td>\n      <td>Samsung</td>\n      <td>2022-05-16 17:31:10</td>\n      <td>2022-05-18 18:27:42</td>\n      <td>3</td>\n      <td>23.01</td>\n      <td>10.00</td>\n      <td>11.02</td>\n      <td>...</td>\n      <td>1003.037086</td>\n      <td>48.94</td>\n      <td>25.93</td>\n      <td>2 days 00:56:32</td>\n      <td>0 days 21:58:16</td>\n      <td>21.97</td>\n      <td>NaN</td>\n      <td>0 days 15:59:54</td>\n      <td>16.00</td>\n      <td>NaN</td>\n    </tr>\n    <tr>\n      <th>old_2022</th>\n      <td>16</td>\n      <td>0</td>\n      <td>Mirafiori</td>\n      <td>Samsung</td>\n      <td>2022-05-16 17:10:47</td>\n      <td>2022-05-18 18:08:07</td>\n      <td>3</td>\n      <td>23.08</td>\n      <td>11.04</td>\n      <td>10.05</td>\n      <td>...</td>\n      <td>1020.747923</td>\n      <td>48.96</td>\n      <td>25.88</td>\n      <td>2 days 00:57:20</td>\n      <td>0 days 22:58:18</td>\n      <td>22.97</td>\n      <td>NaN</td>\n      <td>0 days 16:00:47</td>\n      <td>16.01</td>\n      <td>NaN</td>\n    </tr>\n    <tr>\n      <th>old_2022</th>\n      <td>17</td>\n      <td>0</td>\n      <td>Mirafiori</td>\n      <td>Samsung</td>\n      <td>2022-05-16 17:10:50</td>\n      <td>2022-05-18 18:06:25</td>\n      <td>4</td>\n      <td>24.04</td>\n      <td>9.00</td>\n      <td>11.02</td>\n      <td>...</td>\n      <td>1025.912096</td>\n      <td>48.93</td>\n      <td>24.89</td>\n      <td>2 days 00:55:35</td>\n      <td>0 days 22:57:17</td>\n      <td>22.95</td>\n      <td>NaN</td>\n      <td>0 days 15:59:32</td>\n      <td>15.99</td>\n      <td>NaN</td>\n    </tr>\n    <tr>\n      <th>old_2022</th>\n      <td>18</td>\n      <td>0</td>\n      <td>Mirafiori</td>\n      <td>Samsung</td>\n      <td>2022-06-09 05:20:05</td>\n      <td>2022-06-11 07:15:16</td>\n      <td>1</td>\n      <td>8.00</td>\n      <td>8.00</td>\n      <td>0.00</td>\n      <td>...</td>\n      <td>995.244525</td>\n      <td>49.92</td>\n      <td>41.92</td>\n      <td>2 days 01:55:11</td>\n      <td>0 days 09:01:16</td>\n      <td>9.02</td>\n      <td>NaN</td>\n      <td>0 days 03:00:39</td>\n      <td>3.01</td>\n      <td>NaN</td>\n    </tr>\n    <tr>\n      <th>old_2022</th>\n      <td>19</td>\n      <td>0</td>\n      <td>Mirafiori</td>\n      <td>Samsung</td>\n      <td>2022-05-16 17:33:21</td>\n      <td>2022-05-18 18:29:06</td>\n      <td>2</td>\n      <td>21.05</td>\n      <td>10.01</td>\n      <td>11.03</td>\n      <td>...</td>\n      <td>1016.741702</td>\n      <td>48.93</td>\n      <td>27.88</td>\n      <td>2 days 00:55:45</td>\n      <td>0 days 21:57:29</td>\n      <td>21.96</td>\n      <td>NaN</td>\n      <td>0 days 16:00:33</td>\n      <td>16.01</td>\n      <td>NaN</td>\n    </tr>\n    <tr>\n      <th>old_2022</th>\n      <td>19</td>\n      <td>1</td>\n      <td>Mirafiori</td>\n      <td>Samsung</td>\n      <td>2022-06-17 07:31:03</td>\n      <td>2022-06-18 16:22:23</td>\n      <td>1</td>\n      <td>11.97</td>\n      <td>11.97</td>\n      <td>0.00</td>\n      <td>...</td>\n      <td>999.595988</td>\n      <td>32.86</td>\n      <td>20.89</td>\n      <td>1 days 08:51:20</td>\n      <td>0 days 23:53:48</td>\n      <td>23.90</td>\n      <td>NaN</td>\n      <td>0 days 04:58:09</td>\n      <td>4.97</td>\n      <td>NaN</td>\n    </tr>\n    <tr>\n      <th>old_2022</th>\n      <td>20</td>\n      <td>0</td>\n      <td>Mirafiori</td>\n      <td>Samsung</td>\n      <td>2022-05-20 09:10:18</td>\n      <td>2022-05-27 01:56:12</td>\n      <td>2</td>\n      <td>141.85</td>\n      <td>58.94</td>\n      <td>82.91</td>\n      <td>...</td>\n      <td>992.278648</td>\n      <td>160.76</td>\n      <td>18.91</td>\n      <td>6 days 16:45:54</td>\n      <td>0 days 09:56:14</td>\n      <td>9.94</td>\n      <td>NaN</td>\n      <td>0 days 04:58:37</td>\n      <td>4.98</td>\n      <td>NaN</td>\n    </tr>\n    <tr>\n      <th>old_2022</th>\n      <td>24</td>\n      <td>0</td>\n      <td>Mirafiori</td>\n      <td>Samsung</td>\n      <td>2023-04-01 04:40:41</td>\n      <td>2023-04-03 15:16:03</td>\n      <td>1</td>\n      <td>42.14</td>\n      <td>42.14</td>\n      <td>0.00</td>\n      <td>...</td>\n      <td>994.944322</td>\n      <td>58.59</td>\n      <td>16.45</td>\n      <td>2 days 10:35:22</td>\n      <td>2 days 02:28:51</td>\n      <td>50.48</td>\n      <td>NaN</td>\n      <td>0 days 02:41:18</td>\n      <td>2.69</td>\n      <td>NaN</td>\n    </tr>\n  </tbody>\n</table>\n<p>30 rows × 22 columns</p>\n</div>"
     },
     "execution_count": 14,
     "metadata": {},
     "output_type": "execute_result"
    }
   ],
   "source": [
    "df.head(30)"
   ],
   "metadata": {
    "collapsed": false,
    "ExecuteTime": {
     "end_time": "2023-12-09T20:23:14.062273500Z",
     "start_time": "2023-12-09T20:23:13.887027300Z"
    }
   }
  },
  {
   "cell_type": "code",
   "execution_count": 15,
   "outputs": [],
   "source": [
    "df_long_run = df[df['total_length [km]'] > 500]\n",
    "df_short_run = df[df['total_length [km]'] < 500]"
   ],
   "metadata": {
    "collapsed": false,
    "ExecuteTime": {
     "end_time": "2023-12-09T20:23:16.289250300Z",
     "start_time": "2023-12-09T20:23:16.254987400Z"
    }
   }
  },
  {
   "cell_type": "code",
   "execution_count": 16,
   "outputs": [],
   "source": [
    "def get_path_stats(df, alert_bool):\n",
    "    mean_overall_distance = round(df['total_length [km]'].mean(),2)\n",
    "\n",
    "    mean_total_dur = round(df['total_duration [hours]'].mean(),2)\n",
    "    std_total_dur = round(df['total_duration [hours]'].std(),2)\n",
    "\n",
    "    mean_total_driving = round(df[df['total_driving [hours]'] < 31]['total_driving [hours]'].mean(),2)\n",
    "    std_total_driving = round(df[df['total_driving [hours]'] < 31]['total_driving [hours]'].std(),2)\n",
    "\n",
    "    if alert_bool == True:\n",
    "        mean_stops = round(df['# stops'].mean(),2)\n",
    "        mean_stop_time = round(df['overall stops duration [hours]'].mean(),2)\n",
    "        std_stop_time = round(df['overall stops duration [hours]'].std(),2)\n",
    "\n",
    "        checkpoints_df = df[df['t_CA_hours'] > df['t_CW_hours']]\n",
    "        mean_t_CA = round(checkpoints_df['t_CA_hours'].mean(),2)\n",
    "        std_t_CA = round(checkpoints_df['t_CA_hours'].std(),2)\n",
    "\n",
    "        mean_t_CW = round(checkpoints_df['t_CW_hours'].mean(),2)\n",
    "        std_t_CW = round(checkpoints_df['t_CW_hours'].std(),2)\n",
    "\n",
    "        mean_t_CW_net_stops = round(checkpoints_df[checkpoints_df['t_CW_hours_net_stops'] < 25]['t_CW_hours_net_stops'].mean(),2)\n",
    "        std_t_CW_net_stops = round(checkpoints_df[checkpoints_df['t_CW_hours_net_stops'] < 25]['t_CW_hours_net_stops'].std(),2)\n",
    "\n",
    "        mean_t_CA_net_stops = round(checkpoints_df[checkpoints_df['t_CA_hours_net_stops'] < 30]['t_CA_hours_net_stops'].mean(),2)\n",
    "        std_t_CA_net_stops = round(checkpoints_df[checkpoints_df['t_CA_hours_net_stops'] < 30]['t_CA_hours_net_stops'].std(),2)\n",
    "\n",
    "        return mean_overall_distance, mean_total_dur, std_total_dur, mean_total_driving, std_total_driving, mean_stops, mean_stop_time, std_stop_time, mean_t_CA, std_t_CA, mean_t_CW, std_t_CW, mean_t_CW_net_stops, std_t_CW_net_stops, mean_t_CA_net_stops, std_t_CA_net_stops\n",
    "\n",
    "    return mean_overall_distance, mean_total_dur, std_total_dur, mean_total_driving, std_total_driving"
   ],
   "metadata": {
    "collapsed": false,
    "ExecuteTime": {
     "end_time": "2023-12-09T20:23:17.212715Z",
     "start_time": "2023-12-09T20:23:17.133831Z"
    }
   }
  },
  {
   "cell_type": "code",
   "execution_count": 17,
   "outputs": [],
   "source": [
    "mean_overall_distance, mean_total_dur, std_total_dur, mean_total_driving, std_total_driving, mean_stops, mean_stop_time, std_stop_time, mean_t_CA, std_t_CA, mean_t_CW, std_t_CW, mean_t_CW_net_stops, std_t_CW_net_stops, mean_t_CA_net_stops, std_t_CA_net_stops = get_path_stats(df_long_run, True)"
   ],
   "metadata": {
    "collapsed": false,
    "ExecuteTime": {
     "end_time": "2023-12-09T20:23:18.602076100Z",
     "start_time": "2023-12-09T20:23:18.587945200Z"
    }
   }
  },
  {
   "cell_type": "code",
   "execution_count": 19,
   "outputs": [
    {
     "name": "stdout",
     "output_type": "stream",
     "text": [
      "Considering the LONG run (Samsung to Gerbole):\n",
      "average overall distance is 1012.76 km\n",
      "average overall duration is 67.14  hours +/- 34.95 hours\n",
      "average n. of stops is 1.91 , average overall stop time is 39.16 hours +/- 28.1 hours\n",
      "average driving duration is 20.79  hours +/- 3.41 hours\n",
      "average time to checkpoint Warning is 46.98  hours +/- 22.67 hours\n",
      "average time to checkpoint Warning w/o stop time is 11.28  hours +/- 1.94 hours\n",
      "average time to checkpoint Alert is 61.84  hours +/- 21.33 hours\n",
      "average time to checkpoint Alert w/o stop time is 17.86  hours +/- 1.79 hours\n"
     ]
    }
   ],
   "source": [
    "print('Considering the LONG run (Samsung to Gerbole):')\n",
    "print('average overall distance is', mean_overall_distance, 'km')\n",
    "print('average overall duration is', mean_total_dur, ' hours +/-', std_total_dur,'hours')\n",
    "print('average n. of stops is', mean_stops, ', average overall stop time is', mean_stop_time, 'hours +/-', std_stop_time,'hours')\n",
    "print('average driving duration is', mean_total_driving, ' hours +/-', std_total_driving,'hours')\n",
    "print('average time to checkpoint Warning is', mean_t_CW, ' hours +/-', std_t_CW,'hours')\n",
    "print('average time to checkpoint Warning w/o stop time is', mean_t_CW_net_stops, ' hours +/-', std_t_CW_net_stops,'hours')\n",
    "print('average time to checkpoint Alert is', mean_t_CA, ' hours +/-', std_t_CA,'hours')\n",
    "print('average time to checkpoint Alert w/o stop time is', mean_t_CA_net_stops, ' hours +/-', std_t_CA_net_stops,'hours')"
   ],
   "metadata": {
    "collapsed": false,
    "ExecuteTime": {
     "end_time": "2023-12-09T20:24:11.093682300Z",
     "start_time": "2023-12-09T20:24:11.080686300Z"
    }
   }
  },
  {
   "cell_type": "code",
   "execution_count": 24,
   "outputs": [
    {
     "name": "stdout",
     "output_type": "stream",
     "text": [
      "long run target time is 77.625 hours\n"
     ]
    }
   ],
   "source": [
    "long_run_target_time = mean_total_dur + 0.3*std_total_dur\n",
    "print('long run target time is', long_run_target_time, 'hours')"
   ],
   "metadata": {
    "collapsed": false,
    "ExecuteTime": {
     "end_time": "2023-12-09T20:25:46.678160200Z",
     "start_time": "2023-12-09T20:25:46.655345800Z"
    }
   }
  },
  {
   "cell_type": "code",
   "execution_count": 25,
   "outputs": [
    {
     "name": "stdout",
     "output_type": "stream",
     "text": [
      "long run non-stop target time is 24.2 hours\n"
     ]
    }
   ],
   "source": [
    "long_run_nonstop_target_time = mean_total_driving + 1*std_total_driving\n",
    "print('long run non-stop target time is', long_run_nonstop_target_time, 'hours')"
   ],
   "metadata": {
    "collapsed": false,
    "ExecuteTime": {
     "end_time": "2023-12-09T20:25:47.449643500Z",
     "start_time": "2023-12-09T20:25:47.421228900Z"
    }
   }
  },
  {
   "cell_type": "code",
   "execution_count": 28,
   "outputs": [
    {
     "name": "stdout",
     "output_type": "stream",
     "text": [
      "long run non-stop CW target time is 13.22 hours\n",
      "long run non-stop CA target time is 19.65 hours\n"
     ]
    }
   ],
   "source": [
    "long_run_CW_target_time = round(mean_t_CW_net_stops + 1* std_t_CW_net_stops,2)\n",
    "long_run_CA_target_time = round(mean_t_CA_net_stops + 1*std_t_CA_net_stops,2)\n",
    "\n",
    "print('long run non-stop CW target time is', long_run_CW_target_time ,'hours')\n",
    "print('long run non-stop CA target time is', long_run_CA_target_time ,'hours')"
   ],
   "metadata": {
    "collapsed": false,
    "ExecuteTime": {
     "end_time": "2023-12-09T20:36:09.323560700Z",
     "start_time": "2023-12-09T20:36:09.269560400Z"
    }
   }
  },
  {
   "cell_type": "code",
   "execution_count": null,
   "outputs": [],
   "source": [],
   "metadata": {
    "collapsed": false
   }
  },
  {
   "cell_type": "code",
   "execution_count": 36,
   "outputs": [],
   "source": [
    "df_res = df.copy()\n",
    "df_res['target_time'] = long_run_nonstop_target_time\n",
    "df_res['target_time'] = df_res['target_time'].where(df_res['t_CA_hours_net_stops'] > df_res['t_CW_hours_net_stops'], np.nan)\n",
    "\n",
    "'total_driving [hours]'\n",
    "\n",
    "df_res['dalay_time'] = df_res['total_driving [hours]'] - long_run_nonstop_target_time\n",
    "df_res['dalay_time'] = df_res['dalay_time'].where((df_res['t_CA_hours_net_stops'] > df_res['t_CW_hours_net_stops']) & (df_res['total_driving [hours]'] > long_run_nonstop_target_time), 0)\n",
    "\n",
    "df_res['dalay_time_CW'] = df_res['t_CW_hours_net_stops'] - long_run_CW_target_time\n",
    "df_res['dalay_time_CW'] = df_res['dalay_time_CW'].where((df_res['t_CA_hours'] > df_res['t_CW_hours']) & (df_res['t_CW_hours_net_stops'] > long_run_CW_target_time), 0)\n",
    "\n",
    "df_res['dalay_time_CA'] = df_res['t_CA_hours_net_stops'] - long_run_CA_target_time\n",
    "df_res['dalay_time_CA'] = df_res['dalay_time_CA'].where((df_res['t_CA_hours'] > df_res['t_CW_hours']) & (df_res['t_CA_hours_net_stops'] > long_run_CA_target_time), 0)\n",
    "\n",
    "df_res.to_excel('ARPA_logistics_metrics_v2.0.xlsx')"
   ],
   "metadata": {
    "collapsed": false,
    "ExecuteTime": {
     "end_time": "2023-12-10T10:34:49.585654200Z",
     "start_time": "2023-12-10T10:34:49.470392200Z"
    }
   }
  },
  {
   "cell_type": "code",
   "execution_count": null,
   "outputs": [],
   "source": [],
   "metadata": {
    "collapsed": false
   }
  }
 ],
 "metadata": {
  "kernelspec": {
   "display_name": "Python 3",
   "language": "python",
   "name": "python3"
  },
  "language_info": {
   "codemirror_mode": {
    "name": "ipython",
    "version": 2
   },
   "file_extension": ".py",
   "mimetype": "text/x-python",
   "name": "python",
   "nbconvert_exporter": "python",
   "pygments_lexer": "ipython2",
   "version": "2.7.6"
  }
 },
 "nbformat": 4,
 "nbformat_minor": 0
}
